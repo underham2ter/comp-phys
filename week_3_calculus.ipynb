{
 "cells": [
  {
   "cell_type": "markdown",
   "metadata": {},
   "source": [
    "Before you turn this problem in, make sure everything runs as expected. First, **restart the kernel** (in the menubar, select Kernel$\\rightarrow$Restart) and then **run all cells** (in the menubar, select Cell$\\rightarrow$Run All).\n",
    "\n",
    "Make sure you fill in any place that says `YOUR CODE HERE` or \"YOUR ANSWER HERE\", as well as your github nickname below:"
   ]
  },
  {
   "cell_type": "code",
   "execution_count": 1,
   "metadata": {},
   "outputs": [],
   "source": [
    "NICKNAME = \"underham2ter\"\n",
    "\n",
    "import numpy as np\n",
    "import matplotlib.pyplot as plt\n",
    "from time import monotonic"
   ]
  },
  {
   "cell_type": "markdown",
   "metadata": {
    "deletable": false,
    "editable": false,
    "nbgrader": {
     "cell_type": "markdown",
     "checksum": "7dccf623e8155edecb3e6e5e47a9ef81",
     "grade": false,
     "grade_id": "cell-a2abfc4a6208ed23",
     "locked": true,
     "schema_version": 3,
     "solution": false,
     "task": false
    }
   },
   "source": [
    "# Часть I. Односторонние разностные схемы"
   ]
  },
  {
   "cell_type": "markdown",
   "metadata": {
    "deletable": false,
    "editable": false,
    "nbgrader": {
     "cell_type": "markdown",
     "checksum": "f4b04751eb6e40db195beea9124423d3",
     "grade": false,
     "grade_id": "cell-58ce0b90477554a8",
     "locked": true,
     "schema_version": 3,
     "solution": false,
     "task": false
    }
   },
   "source": [
    "Напишите функцию `deriv`, которая вычисляет производную функции в заданной точке $x$, используя одностороннюю разностную схему с заданным шагом $h$ и степенью аппроксимации $O(h^2)$.\n",
    "\n",
    "Вычислим $D(f)$ такое, что $D(f)=f'(x)+\\overline{O}(h^2)$\n",
    "\n",
    "$\n",
    "f(x+h)=f(x)+f'(x)h+\\frac{1}{2}f''(x)h^2+\\overline{O}(h^3)\n",
    "$\n",
    "\n",
    "$\n",
    "f(x+2h)=f(x)+2f'(x)h+2f''(x)h^2+\\overline{O}(h^3)\n",
    "$\n",
    "\n",
    "Тогда $D(f)={{-3f(x)+4f(x+h)-f(x+2h)}\\over{2h}}=f'(x)+\\overline{O}(h^2)$"
   ]
  },
  {
   "cell_type": "code",
   "execution_count": 2,
   "metadata": {
    "ExecuteTime": {
     "end_time": "2022-11-02T10:55:29.675531Z",
     "start_time": "2022-11-02T10:55:29.667604Z"
    },
    "deletable": false,
    "nbgrader": {
     "cell_type": "code",
     "checksum": "8f8e897d3fbbb433ce8cda547894e344",
     "grade": false,
     "grade_id": "cell-247122d69a9fc913",
     "locked": false,
     "schema_version": 3,
     "solution": true,
     "task": false
    }
   },
   "outputs": [],
   "source": [
    "def deriv(f, x, h):\n",
    "    \"\"\" Вычисляет производную `f` в точке `x` с шагом `h`.\n",
    "    Вычисляет производную, используя односторонню разностную схему со степенью аппроксимации $O(h^2)$.\n",
    "    \n",
    "    Parameters\n",
    "    ----------\n",
    "    f : callable\n",
    "        Функция, которую нужно продифференцировать\n",
    "    x : float\n",
    "        Точка, в которой нужно дифференцировать функцию\n",
    "    h : float\n",
    "        Шаг\n",
    "        \n",
    "    Rerurns\n",
    "    -------\n",
    "    fder : производная f(x) в точке x с шагом h.\n",
    "    \"\"\"\n",
    "    x1 = x+h\n",
    "    x2 = x+2*h\n",
    "    dx = x2-x1\n",
    "    numerator = -3*f(x)+4*f(x1)-f(x2)\n",
    "    denominator = 2*dx\n",
    "    fder = numerator/denominator\n",
    "    return fder"
   ]
  },
  {
   "cell_type": "markdown",
   "metadata": {
    "deletable": false,
    "editable": false,
    "nbgrader": {
     "cell_type": "markdown",
     "checksum": "44271195412c6453928a38465a99d370",
     "grade": false,
     "grade_id": "cell-d0404f738b4b1ddf",
     "locked": true,
     "schema_version": 3,
     "solution": false,
     "task": false
    }
   },
   "source": [
    "#### Тест I.1\n",
    "\n",
    "Проверьте ваш алгоритм на простом примере: продифференцируйте $f(x) = x^3$ в точке $x=0$. Прокомментируйте, совпадает ли результат с ожидаемым $f'(x) = 0$ при стремлении $h\\to 0$."
   ]
  },
  {
   "cell_type": "code",
   "execution_count": 3,
   "metadata": {
    "ExecuteTime": {
     "end_time": "2022-11-02T10:55:32.649499Z",
     "start_time": "2022-11-02T10:55:32.641768Z"
    },
    "deletable": false,
    "editable": false,
    "nbgrader": {
     "cell_type": "code",
     "checksum": "b5da519e3e5c32aa43d9708173fff822",
     "grade": true,
     "grade_id": "cell-de34dd9a8de8f123",
     "locked": true,
     "points": 1,
     "schema_version": 3,
     "solution": false,
     "task": false
    }
   },
   "outputs": [
    {
     "name": "stdout",
     "output_type": "stream",
     "text": [
      "0.010000 -- -0.0002\n",
      "0.001000 --  -2e-06\n",
      "0.000100 --  -2e-08\n",
      "0.000010 --  -2e-10\n"
     ]
    }
   ],
   "source": [
    "x = 0\n",
    "for h in [1e-2, 1e-3, 1e-4, 1e-5]:\n",
    "    err = deriv(lambda x: x**3, x, h)\n",
    "    print(\"%5f -- %7.4g\" % (h, err-3*x**2))\n"
   ]
  },
  {
   "cell_type": "markdown",
   "metadata": {
    "deletable": false,
    "nbgrader": {
     "cell_type": "markdown",
     "checksum": "189794ac6c44e4e7bb19e43f0745afcd",
     "grade": true,
     "grade_id": "cell-27237ba3cda86241",
     "locked": false,
     "points": 1,
     "schema_version": 3,
     "solution": true,
     "task": false
    }
   },
   "source": [
    "Как и ожидалось $lim_{h \\rightarrow 0}~~f^{'}(h) \\rightarrow 0, \\epsilon_f\\propto h^2$"
   ]
  },
  {
   "cell_type": "markdown",
   "metadata": {
    "deletable": false,
    "editable": false,
    "nbgrader": {
     "cell_type": "markdown",
     "checksum": "d9f79b9c6aa3bdb451f947f25ae736e8",
     "grade": false,
     "grade_id": "cell-27d5fa90ce50a65f",
     "locked": true,
     "schema_version": 3,
     "solution": false,
     "task": false
    }
   },
   "source": [
    "### Тест I.2\n",
    "\n",
    "Теперь попробуйте немного более сложную функцию $f(x) = x^2 \\log{x}$. Оцените значение производной в точке $x=1$, используя *двухточечную* и *трехточечную* схемы. Для обеих схем оцените значение $h$, при котором ошибка перестанет падать."
   ]
  },
  {
   "cell_type": "code",
   "execution_count": 4,
   "metadata": {
    "ExecuteTime": {
     "end_time": "2022-11-02T10:57:07.885511Z",
     "start_time": "2022-11-02T10:57:07.879734Z"
    },
    "deletable": false,
    "editable": false,
    "nbgrader": {
     "cell_type": "code",
     "checksum": "f72dc80bffc29ddb9f03329fb940e482",
     "grade": false,
     "grade_id": "cell-388936373111aa39",
     "locked": true,
     "schema_version": 3,
     "solution": false,
     "task": false
    }
   },
   "outputs": [],
   "source": [
    "from math import log\n",
    "\n",
    "def f(x):\n",
    "    return x**2 * log(x)\n",
    "    \n",
    "def fder(x):\n",
    "    return x * (2.*log(x) + 1)"
   ]
  },
  {
   "cell_type": "code",
   "execution_count": 10,
   "metadata": {
    "deletable": false,
    "nbgrader": {
     "cell_type": "code",
     "checksum": "a8ff82fa8e3fab8a2619bdda40855b90",
     "grade": true,
     "grade_id": "cell-89d470f23af144b9",
     "locked": false,
     "points": 2,
     "schema_version": 3,
     "solution": true,
     "task": false
    }
   },
   "outputs": [
    {
     "data": {
      "text/plain": "<Figure size 1500x1000 with 1 Axes>",
      "image/png": "[encoded data removed]"
     },
     "metadata": {},
     "output_type": "display_data"
    },
    {
     "name": "stdout",
     "output_type": "stream",
     "text": [
      "1.0000000089225287\n",
      "0.9999999996662663\n"
     ]
    }
   ],
   "source": [
    "x=1\n",
    "df_forward_arr_1 = np.array([])\n",
    "df_forward_arr_2 = np.array([])\n",
    "h_arr = np.logspace(-13, 0, num=100)\n",
    "\n",
    "def der_forward_1(f, x, h):\n",
    "    numerator = f(x+h)-f(x)\n",
    "    denominator = h\n",
    "    return numerator/denominator\n",
    "\n",
    "def der_forward_2(f, x, h):\n",
    "    x1 = x+h\n",
    "    x2 = x+2*h\n",
    "    dx = x2-x1\n",
    "    numerator = -3*f(x)+4*f(x1)-f(x2)\n",
    "    denominator = 2*dx\n",
    "    return numerator/denominator\n",
    "\n",
    "for h in h_arr:\n",
    "    df_forward_arr_1 = np.append(\n",
    "        df_forward_arr_1, np.abs(der_forward_1(f, x, h)-fder(x)))\n",
    "    df_forward_arr_2 = np.append(\n",
    "        df_forward_arr_2, np.abs(der_forward_2(f, x, h)-fder(x)))\n",
    "\n",
    "plt.figure(figsize=(15, 10))\n",
    "\n",
    "plt.loglog(h_arr, df_forward_arr_1, 'b.', label='two-point scheme')\n",
    "plt.loglog(h_arr, df_forward_arr_2, 'r.', label='three-point scheme')\n",
    "plt.xlabel('h')\n",
    "plt.ylabel(\"|Df-f'|\")\n",
    "plt.legend()\n",
    "plt.show()\n",
    "\n",
    "print(der_forward_1(f, x, 10**(-8)))\n",
    "\n",
    "print(der_forward_2(f, x, 10**(-6)))"
   ]
  },
  {
   "cell_type": "markdown",
   "metadata": {
    "deletable": false,
    "editable": false,
    "nbgrader": {
     "cell_type": "markdown",
     "checksum": "f2f6f5a9c6fbe8c1575bd41eede5ce49",
     "grade": false,
     "grade_id": "cell-c80bff08a3ce816e",
     "locked": true,
     "schema_version": 3,
     "solution": false,
     "task": false
    }
   },
   "source": [
    "$h_{opt}^1$~$10^{-8}~~~f_{opt}^{'1}$~$1.0000000090$\n",
    "\n",
    "$h_{opt}^2$~$10^{-6}~~~f_{opt}^{'2}$~$0.9999999997$"
   ]
  },
  {
   "cell_type": "markdown",
   "source": [
    "### Тест I.3 \n",
    "\n",
    "Теперь продифференцируйте $x^2 \\log(x)$ в $x=0$. Используйте трехточечную схему. Заметьте, что в нуле функцию нужно доопределить явным образом. Постройте зависимость ошибки от величины шага $h$. Объясните полученные результаты.\n",
    "\n"
   ],
   "metadata": {
    "collapsed": false
   }
  },
  {
   "cell_type": "code",
   "execution_count": 7,
   "metadata": {
    "ExecuteTime": {
     "end_time": "2022-11-02T10:57:47.265611Z",
     "start_time": "2022-11-02T10:57:47.257158Z"
    },
    "deletable": false,
    "editable": false,
    "nbgrader": {
     "cell_type": "code",
     "checksum": "e82e3a057716ab938190321fa252c45a",
     "grade": false,
     "grade_id": "cell-0f7900a58bda55ca",
     "locked": true,
     "schema_version": 3,
     "solution": false,
     "task": false
    }
   },
   "outputs": [
    {
     "name": "stdout",
     "output_type": "stream",
     "text": [
      "0.010000 -- -0.01386\n",
      "0.001000 -- -0.001386\n",
      "0.000100 -- -0.0001386\n",
      "0.000010 -- -1.386e-05\n"
     ]
    }
   ],
   "source": [
    "def f(x):\n",
    "    if x == 0:\n",
    "        # предел $x^2 log(x)$ при $x-> 0$ равен нулю, хотя log(x) не определен в x=0\n",
    "        return 0.0\n",
    "    else:\n",
    "        return x**2 * log(x)\n",
    "    \n",
    "def fder(x):\n",
    "    if x == 0:\n",
    "        return 0.0\n",
    "    else:\n",
    "        return x*(2*log(x) + 1)\n",
    "\n",
    "x = 0\n",
    "for h in [1e-2, 1e-3, 1e-4, 1e-5]:\n",
    "    err = deriv(f, x, h) - fder(x)\n",
    "    print(\"%5f -- %7.4g\" % (h, err))"
   ]
  },
  {
   "cell_type": "code",
   "execution_count": 11,
   "metadata": {
    "deletable": false,
    "nbgrader": {
     "cell_type": "code",
     "checksum": "e0af096a966239a9aa97e4504456d76a",
     "grade": true,
     "grade_id": "cell-798170312e193040",
     "locked": false,
     "points": 2,
     "schema_version": 3,
     "solution": true,
     "task": false
    }
   },
   "outputs": [
    {
     "data": {
      "text/plain": "<Figure size 1500x1000 with 1 Axes>",
      "image/png": "[encoded data removed]"
     },
     "metadata": {},
     "output_type": "display_data"
    }
   ],
   "source": [
    "x=0\n",
    "df_forward_arr_2 = np.array([])\n",
    "\n",
    "\n",
    "for h in h_arr:\n",
    "    df_forward_arr_2 = np.append(\n",
    "        df_forward_arr_2, np.abs(der_forward_2(f, x, h)-fder(x)))\n",
    "\n",
    "plt.figure(figsize=(15, 10))\n",
    "\n",
    "plt.loglog(h_arr, df_forward_arr_2, 'b.', label='three-point scheme')\n",
    "plt.xlabel('h')\n",
    "plt.ylabel(\"|Df-f'|\")\n",
    "plt.legend()\n",
    "plt.show()\n"
   ]
  },
  {
   "cell_type": "markdown",
   "metadata": {
    "deletable": false,
    "nbgrader": {
     "cell_type": "markdown",
     "checksum": "f2b7f686b02f60f8085d92e24ffcfa12",
     "grade": true,
     "grade_id": "cell-0d44d43244d82696",
     "locked": false,
     "points": 1,
     "schema_version": 3,
     "solution": true,
     "task": false
    }
   },
   "source": [
    "$D(f)={{-3f(0)+4f(h)-f(2h)}\\over{2h}}=f'(0)+\\epsilon_f$\n",
    "\n",
    "$\\epsilon_f={{4h^2log(h)-4h^2log(2h)}\\over{2h}}=2log(2)h$\n",
    "\n",
    "Это мы и видим"
   ]
  },
  {
   "cell_type": "markdown",
   "metadata": {
    "deletable": false,
    "editable": false,
    "heading_collapsed": true,
    "nbgrader": {
     "cell_type": "markdown",
     "checksum": "a687bf3673f080f4194ad42a5a6bcc4a",
     "grade": false,
     "grade_id": "cell-ea586deba7686923",
     "locked": true,
     "schema_version": 3,
     "solution": false,
     "task": false
    }
   },
   "source": [
    "# Часть II. Midpoint rule"
   ]
  },
  {
   "cell_type": "markdown",
   "metadata": {
    "deletable": false,
    "editable": false,
    "hidden": true,
    "nbgrader": {
     "cell_type": "markdown",
     "checksum": "b5ce6a65d088a79873fab62d062391de",
     "grade": false,
     "grade_id": "cell-823e204de1d177cf",
     "locked": true,
     "schema_version": 3,
     "solution": false,
     "task": false
    }
   },
   "source": [
    "Напишите функцию, вычисляющую определенный интеграл, используя midpoint rule, с точностью до заданной погрешности $\\epsilon$. Оценивайте ошибку, сравнивая значения интеграла для $N$ и $2N$ элементарных интервалов."
   ]
  },
  {
   "cell_type": "code",
   "execution_count": 13,
   "metadata": {
    "ExecuteTime": {
     "end_time": "2022-11-02T11:02:46.147855Z",
     "start_time": "2022-11-02T11:02:46.137812Z"
    },
    "deletable": false,
    "hidden": true,
    "nbgrader": {
     "cell_type": "code",
     "checksum": "8e9900aa077ba755b56bed4b333b5e17",
     "grade": false,
     "grade_id": "cell-6d8e2a4d5161892f",
     "locked": false,
     "schema_version": 3,
     "solution": true,
     "task": false
    }
   },
   "outputs": [],
   "source": [
    "def calc_I(func, a, b , n):\n",
    "    h = (b-a)/(n+1)\n",
    "    I = 0\n",
    "    for k in range(1, n+1):\n",
    "        I += h*(func(a+(1/2+k)*h))\n",
    "    return I\n",
    "\n",
    "\n",
    "def midpoint_rule(func, a, b, eps):\n",
    "    \"\"\" Вычисляет интеграл f от a до b используя правило центральной точки.\n",
    "    \n",
    "    Parameters\n",
    "    ----------\n",
    "    func : callable\n",
    "        Функция, которую нужно проинтегрировать\n",
    "    a : float\n",
    "        Нижний предел интегрирования\n",
    "    b : float\n",
    "        Верхний предел интегрирования\n",
    "    eps : float\n",
    "        Ожидаемая ошибка оценки\n",
    "        \n",
    "    Returns\n",
    "    -------\n",
    "    integral : float\n",
    "        Оценка интеграла $\\int_a^b f(x) dx$.\n",
    "    n : int\n",
    "        The number of intervals on segment.\n",
    "    \"\"\"\n",
    "    N = int(np.ceil((b-a)/np.sqrt(eps)-1))\n",
    "    i, key = 0, True\n",
    "    while key:\n",
    "        I_N = calc_I(func, a, b, N)\n",
    "        I_2N = calc_I(func, a, b, 2*N)\n",
    "        err = abs(I_N-I_2N)\n",
    "        if err < eps or i > 10:\n",
    "            key = False\n",
    "        else:\n",
    "            i += 1\n",
    "            N *= 2\n",
    "    return I_N, N"
   ]
  },
  {
   "cell_type": "markdown",
   "metadata": {
    "deletable": false,
    "editable": false,
    "heading_collapsed": true,
    "hidden": true,
    "nbgrader": {
     "cell_type": "markdown",
     "checksum": "17de61ef22af343aa2e851b308606719",
     "grade": false,
     "grade_id": "cell-a4a6f9fe49230343",
     "locked": true,
     "schema_version": 3,
     "solution": false,
     "task": false
    }
   },
   "source": [
    "### Тест II.1\n",
    "\n",
    "Протестирутйте ваш алгоритм на простом интеграле, который вы можете посчитать аналитически.\n",
    "\n",
    "Сравните скорость сходимости с ожидаемой $O(N^{-2})$ в зависимости от количества интервалов, необходимых для заданной точности $\\epsilon$.\n",
    "\n",
    "Сравните полученный результат с ответом, вычисленным \"руками\". Попадает ли результат в интервал заданной ошибки?\n",
    "\n",
    "(20% итоговой оценки)\n"
   ]
  },
  {
   "cell_type": "code",
   "execution_count": 14,
   "metadata": {
    "deletable": false,
    "hidden": true,
    "nbgrader": {
     "cell_type": "code",
     "checksum": "bf314859ec5cf867c3ca556b9f25ffae",
     "grade": true,
     "grade_id": "cell-8f4a8b01438b2182",
     "locked": false,
     "points": 1,
     "schema_version": 3,
     "solution": true,
     "task": false
    }
   },
   "outputs": [
    {
     "data": {
      "text/plain": "<Figure size 640x480 with 1 Axes>",
      "image/png": "[encoded data removed]"
     },
     "metadata": {},
     "output_type": "display_data"
    },
    {
     "name": "stdout",
     "output_type": "stream",
     "text": [
      "eps_Q = 2.575000000004657e-05\n"
     ]
    }
   ],
   "source": [
    "f = lambda x: 3*x**2\n",
    "F = lambda x: x**3\n",
    "eps = 1e-4\n",
    "err_=[]\n",
    "a, b = 0, 1\n",
    "#Из оценки R~h^2\n",
    "N_max = int(np.ceil((b-a)/np.sqrt(eps)-1))\n",
    "N_ = np.arange(10, N_max, 1)\n",
    "for N in N_:\n",
    "    err_.append(abs(calc_I(f, a, b, N)-(F(b)-F(a))))\n",
    "plt.plot(N_, err_,'r-')\n",
    "plt.xlabel('N')\n",
    "plt.ylabel('|I-Q|')\n",
    "plt.show()\n",
    "\n",
    "print(\"eps_Q = %s\" % abs(calc_I(f, a, b, N_max)-(F(b)-F(a))))"
   ]
  },
  {
   "cell_type": "markdown",
   "metadata": {
    "deletable": false,
    "hidden": true,
    "nbgrader": {
     "cell_type": "markdown",
     "checksum": "eee35c4d10503420186cc419a28a1554",
     "grade": true,
     "grade_id": "cell-d474c41a6a7cbc6c",
     "locked": false,
     "points": 2,
     "schema_version": 3,
     "solution": true,
     "task": false
    }
   },
   "source": [
    "Как видно из графика $\\epsilon_Q$\n",
    "действительно пропорционален $1\\over N^2$\n",
    "\n",
    "Наша оценка интеграла вышла с ошибкой в\n",
    "$\\epsilon_Q =2.6*10^{-5}$, что лежит в интервале\n",
    "заданной ошибки $\\epsilon_Q =1*10^{-4}$."
   ]
  },
  {
   "cell_type": "markdown",
   "metadata": {
    "deletable": false,
    "editable": false,
    "heading_collapsed": true,
    "hidden": true,
    "nbgrader": {
     "cell_type": "markdown",
     "checksum": "e60cc76994d195207c26398c5fd3483e",
     "grade": false,
     "grade_id": "cell-9b204a1b206b1efd",
     "locked": true,
     "schema_version": 3,
     "solution": false,
     "task": false
    }
   },
   "source": [
    "## Тест II.2\n",
    "\n",
    "Используя ваш алгоритм, посчитайте значение\n",
    "\n",
    "$\n",
    "\\int_0^1\\ \\frac{\\sin{\\sqrt{x}}}{x}\\ dx\n",
    "$\n",
    "\n",
    "с точностью до $\\epsilon=10^{-4}$.\n",
    "\n",
    "Заметим, что интеграл содержит интегрируемую особенность в нижнем пределе. Выполните вычисление двумя способами: во первых, посчитайте интеграл \"в лоб\", во вторых, вычтите особенность из подынтегрального выражения. Сравните количество необходимых итераций для достижения заданной точности $\\epsilon$.\n",
    "\n",
    "(30% итоговой оценки)"
   ]
  },
  {
   "cell_type": "code",
   "execution_count": 10,
   "metadata": {
    "deletable": false,
    "hidden": true,
    "nbgrader": {
     "cell_type": "code",
     "checksum": "3cb0868511fde49b86758808cd93aca8",
     "grade": true,
     "grade_id": "cell-46b736cfbfd4d657",
     "locked": false,
     "points": 2,
     "schema_version": 3,
     "solution": true,
     "task": false
    }
   },
   "outputs": [
    {
     "name": "stdout",
     "output_type": "stream",
     "text": [
      "Number of intervals = 51904512\n",
      "Number of iterations = 19\n",
      "Q = 1.891885882815218\n",
      "Exact error = 0.00028011718478193615\n",
      "Execution time 1383.5630000000006\n"
     ]
    }
   ],
   "source": [
    "def midpoint_rule(func, a, b, eps):\n",
    "    N = int(np.ceil((b-a)/np.sqrt(eps)-1))\n",
    "    i, key = 0, True\n",
    "    while key:\n",
    "        I_N = calc_I(func, a, b, N)\n",
    "        I_2N = calc_I(func, a, b, 2*N)\n",
    "        err = abs(I_N-I_2N)\n",
    "        if err < eps:\n",
    "            key = False\n",
    "        else:\n",
    "            i += 1\n",
    "            N *= 2\n",
    "    return I_N, N, err, i\n",
    "\n",
    "a, b = 0, 1\n",
    "f = lambda x: np.sin(np.sqrt(x))/x\n",
    "time_start = monotonic()\n",
    "Q, N, eps, it = midpoint_rule(f, a, b, eps=1e-4)\n",
    "time_end = monotonic()\n",
    "print(\"Number of intervals = %s\" % N)\n",
    "print(\"Number of iterations = %s\" % it)\n",
    "print(\"Q = %s\" % Q)\n",
    "print(\"Exact error = %s\" % abs(Q - 1.892166))\n",
    "print(\"Execution time {delta}\".format(delta=time_end-time_start))"
   ]
  },
  {
   "cell_type": "markdown",
   "source": [
    "Потребовалось 19 увеличений N в два раза.. (~20 минут)\n",
    "\n",
    "$\n",
    "\\int_0^1\\ \\frac{\\sin{\\sqrt{x}}}{x}\\ dx = \\int_0^\\epsilon\\ \\frac{\\sin{\\sqrt{x}}}{x}\\ dx +\n",
    "\\int_\\epsilon^1\\ \\frac{\\sin{\\sqrt{x}}}{x}\\ dx \\approx\n",
    "\\int_0^\\epsilon\\ (\\frac{1}{\\sqrt{x}} -\\frac{x^{1/2}}{6} + \\overline{O}(x^{3/2}))\\ dx  +\n",
    "\\int_\\epsilon^1\\ \\frac{\\sin{\\sqrt{x}}}{x}\\ dx =\n",
    "$\n",
    "\n",
    "$\n",
    "= 2\\sqrt{\\epsilon} - \\frac{\\epsilon^{3/2}}{9} + \\overline{O}(\\epsilon^{5/2}) +\n",
    "\\int_\\epsilon^1\\ \\frac{1}{\\sqrt{x}}\\ dx\n",
    "$\n",
    "\n",
    "Тогда можем взять $\\epsilon = h$"
   ],
   "metadata": {
    "collapsed": false
   }
  },
  {
   "cell_type": "code",
   "execution_count": 11,
   "outputs": [
    {
     "name": "stdout",
     "output_type": "stream",
     "text": [
      "Number of intervals = 50688\n",
      "Number of iterations = 9\n",
      "Q = 1.8919702184380855\n",
      "Exact error = 0.00019578156191446539\n",
      "Execution time 1.0\n"
     ]
    }
   ],
   "source": [
    "def midpoint_rule(func, b, eps):\n",
    "    N = int(np.ceil(b/np.sqrt(eps)-1))\n",
    "    i, key = 0, True\n",
    "    h = b/(N+2)\n",
    "    while key:\n",
    "\n",
    "        I_N = calc_I(func, h, b, N)\n",
    "        I_2N = calc_I(func, h, b, 2*N)\n",
    "        err = abs(I_N-I_2N)\n",
    "        if err < eps:\n",
    "            key = False\n",
    "        else:\n",
    "            i += 1\n",
    "            N *= 2\n",
    "    return I_N, N, i, h\n",
    "\n",
    "b = 1\n",
    "f = lambda x: np.sin(np.sqrt(x))/x\n",
    "time_start = monotonic()\n",
    "Q, N, it, h = midpoint_rule(f, b, eps=1e-4)\n",
    "time_end = monotonic()\n",
    "I = Q + 2*np.sqrt(h) - h**(3/2)/9\n",
    "\n",
    "print(\"Number of intervals = %s\" % N)\n",
    "print(\"Number of iterations = %s\" % it)\n",
    "print(\"Q = %s\" % I)\n",
    "print(\"Exact error = %s\" % abs(I - 1.892166))\n",
    "print(\"Execution time {delta}\".format(delta=time_end-time_start))"
   ],
   "metadata": {
    "collapsed": false,
    "pycharm": {
     "name": "#%%\n"
    }
   }
  },
  {
   "cell_type": "markdown",
   "metadata": {
    "deletable": false,
    "editable": false,
    "heading_collapsed": true,
    "nbgrader": {
     "cell_type": "markdown",
     "checksum": "14cba3aba3d21fdb0ebe23c386e6af64",
     "grade": false,
     "grade_id": "cell-a84348af6d660154",
     "locked": true,
     "schema_version": 3,
     "solution": false,
     "task": false
    }
   },
   "source": [
    "9 итераций (~1 секунда) и лучшая точность.."
   ]
  },
  {
   "cell_type": "markdown",
   "source": [
    "# Часть  III \n",
    "\n",
    "\n",
    "Вычислите определённый интеграл **методом трапеций**  с вычитанием сингулярности\n",
    "\n",
    "$\n",
    "I = \\int_{0}^{1}\\frac{e^x}{\\sqrt{x(1-x)}}dx.\n",
    "$\n",
    "\n",
    "Преобразуйте данный интеграл, вычитая сингулярности. Выпишите расчетные формулы.\n",
    "\n",
    "Вам могут пригодиться значения следующих определенных интегралов:\n",
    "\n",
    "$\n",
    "\\int_0^1 \\frac{1}{\\sqrt{x (1-x)}} \\, dx=\\pi,\\quad \\int_0^1 \\frac{x}{\\sqrt{x (1-x)}} \\, dx=\\pi/2.\n",
    "$"
   ],
   "metadata": {
    "collapsed": false
   }
  },
  {
   "cell_type": "markdown",
   "metadata": {
    "deletable": false,
    "hidden": true,
    "nbgrader": {
     "cell_type": "markdown",
     "checksum": "62f97fdccd2f25cb7fabca5153f7abb9",
     "grade": true,
     "grade_id": "cell-d23d794b6897dcd5",
     "locked": false,
     "points": 1,
     "schema_version": 3,
     "solution": true,
     "task": false
    }
   },
   "source": [
    "$\n",
    "\\int_{0}^{1}\\frac{e^x}{\\sqrt{x(1-x)}}dx = \\int_0^\\epsilon\\ \\frac{e^x}{\\sqrt{x(1-x)}}dx +\n",
    "\\int_\\epsilon^{1-\\epsilon}\\ \\frac{e^x}{\\sqrt{x(1-x)}}dx + \\int_{1-\\epsilon}^1\\ \\frac{e^x}{\\sqrt{x(1-x)}}dx\n",
    "$\n",
    "\n",
    "$\n",
    "\\int_0^\\epsilon\\ \\frac{e^x}{\\sqrt{x(1-x)}}dx \\approx \\int_0^\\epsilon\\ (\\frac{1}{\\sqrt{x}} +\n",
    "\\frac{3}{2}\\sqrt{x} + \\overline{O}(x^{3/2}))\\ dx = 2\\sqrt{\\epsilon}+\\epsilon^{3/2}+\\overline{O}(\\epsilon^{5/2})\n",
    "$\n",
    "\n",
    "$\n",
    "\\int_{1-\\epsilon}^1\\ \\frac{e^x}{\\sqrt{x(1-x)}}dx \\approx \\int_{1-\\epsilon}^1\\ e*(\\frac{1}{\\sqrt{1-x}} +\n",
    "\\frac{3}{2}\\sqrt{1-x} + \\overline{O}((1-x)^{3/2}))\\ dx = 2e\\sqrt{\\epsilon}+e\\epsilon^{3/2}+\\overline{O}(\\epsilon^{5/2})\n",
    "$\n",
    "\n",
    "$\\epsilon = h$\n",
    "\n",
    "$\n",
    "I \\approx (e+1)(2\\sqrt{h}+h^{3/2})+\\int_h^{1-h}\\ \\frac{e^x}{\\sqrt{x(1-x)}}dx\n",
    "$"
   ]
  },
  {
   "cell_type": "markdown",
   "metadata": {
    "deletable": false,
    "editable": false,
    "hidden": true,
    "nbgrader": {
     "cell_type": "markdown",
     "checksum": "f17a79f5ce21cdf8a9ace16b7151ed3b",
     "grade": false,
     "grade_id": "cell-4bef248a3d85e2ea",
     "locked": true,
     "schema_version": 3,
     "solution": false,
     "task": false
    }
   },
   "source": [
    "Cоставьте функцию, возвращающую значение интеграла методом трапеций."
   ]
  },
  {
   "cell_type": "code",
   "execution_count": 26,
   "metadata": {
    "ExecuteTime": {
     "end_time": "2022-11-02T11:08:47.860563Z",
     "start_time": "2022-11-02T11:08:47.853918Z"
    },
    "deletable": false,
    "hidden": true,
    "nbgrader": {
     "cell_type": "code",
     "checksum": "d1fe63b13f057c05c47ff3528738b822",
     "grade": false,
     "grade_id": "cell-76e4d86116937fef",
     "locked": false,
     "schema_version": 3,
     "solution": true,
     "task": false
    }
   },
   "outputs": [
    {
     "name": "stdout",
     "output_type": "stream",
     "text": [
      "I = 5.509906958218986\n",
      "Error = 0.0014779582189863305\n"
     ]
    }
   ],
   "source": [
    "def calc_I_trapezoid(f, a, b , n):\n",
    "    h = (b-a)/n\n",
    "    I = 0\n",
    "    for k in range(1, n+1):\n",
    "        I += (h/2) * (f(a+k*h)+f(a+(k-1)*h))\n",
    "    return I\n",
    "\n",
    "\n",
    "def integ(npts=10):\n",
    "    \"\"\"Compute the value of the integral above.\n",
    "    \n",
    "    Subtract the singularities and use the trapezoid rule. \n",
    "    \n",
    "    Parameters\n",
    "    ----------\n",
    "    npts : int\n",
    "        The number of points for the trapezoid rule\n",
    "        \n",
    "    Returns\n",
    "    -------\n",
    "    I : float\n",
    "       The computed value of the integral\n",
    "    \"\"\"\n",
    "\n",
    "\n",
    "\n",
    "\n",
    "    func = lambda x: np.exp(x)/np.sqrt(x*(1-x))\n",
    "    h = 1/npts\n",
    "    I_N = calc_I_trapezoid(func, h, 1-h, npts) + (np.e+1)*(2*np.sqrt(h)+h**(3/2))\n",
    "\n",
    "    return I_N\n",
    "N = 10000\n",
    "I = integ(N)\n",
    "\n",
    "\n",
    "print(\"I = %s\" % I)\n",
    "print(\"Error = %s\" % (I - 5.508429))\n"
   ]
  },
  {
   "cell_type": "code",
   "execution_count": 13,
   "metadata": {
    "ExecuteTime": {
     "end_time": "2022-11-02T11:08:48.915905Z",
     "start_time": "2022-11-02T11:08:48.584524Z"
    },
    "deletable": false,
    "editable": false,
    "hidden": true,
    "nbgrader": {
     "cell_type": "code",
     "checksum": "b566a313d9c2b4995fa7ccb48afb3335",
     "grade": true,
     "grade_id": "cell-525ab3ba781ed560",
     "locked": true,
     "points": 3,
     "schema_version": 3,
     "solution": false,
     "task": false
    }
   },
   "outputs": [],
   "source": [
    "# this is a test to check your computed value\n",
    "from numpy.testing import assert_allclose\n"
   ]
  }
 ],
 "metadata": {
  "kernelspec": {
   "display_name": "Python 3 (ipykernel)",
   "language": "python",
   "name": "python3"
  },
  "language_info": {
   "codemirror_mode": {
    "name": "ipython",
    "version": 3
   },
   "file_extension": ".py",
   "mimetype": "text/x-python",
   "name": "python",
   "nbconvert_exporter": "python",
   "pygments_lexer": "ipython3",
   "version": "3.8.13"
  },
  "latex_envs": {
   "LaTeX_envs_menu_present": true,
   "autoclose": true,
   "autocomplete": false,
   "bibliofile": "biblio.bib",
   "cite_by": "apalike",
   "current_citInitial": 1,
   "eqLabelWithNumbers": true,
   "eqNumInitial": 1,
   "hotkeys": {
    "equation": "Ctrl-E",
    "itemize": "Ctrl-I"
   },
   "labels_anchors": false,
   "latex_user_defs": false,
   "report_style_numbering": false,
   "user_envs_cfg": false
  },
  "toc": {
   "base_numbering": 1,
   "nav_menu": {},
   "number_sections": true,
   "sideBar": true,
   "skip_h1_title": false,
   "title_cell": "Table of Contents",
   "title_sidebar": "Contents",
   "toc_cell": false,
   "toc_position": {},
   "toc_section_display": true,
   "toc_window_display": false
  }
 },
 "nbformat": 4,
 "nbformat_minor": 2
}