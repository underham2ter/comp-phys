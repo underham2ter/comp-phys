{
 "cells": [
  {
   "cell_type": "markdown",
   "metadata": {},
   "source": [
    "# Формула Шерман-Моррисона и трехдиагональная матрица\n",
    "\n",
    "Пусть ${\\bf A} \\rightarrow {\\bf A} + {\\bf u} \\otimes {\\bf v}$\n"
   ]
  },
  {
   "cell_type": "code",
   "execution_count": 2,
   "metadata": {
    "ExecuteTime": {
     "end_time": "2022-10-14T15:18:30.656369Z",
     "start_time": "2022-10-14T15:18:30.278428Z"
    }
   },
   "outputs": [],
   "source": [
    "import numpy as np\n",
    "import scipy.linalg as la\n",
    "import matplotlib.pyplot as plt"
   ]
  },
  {
   "cell_type": "markdown",
   "metadata": {},
   "source": [
    "Разберем пример, уравнение пружинного маятника с внешней силой: \n",
    "$$ \\ddot x(t) + k^2 x(t) = f(t) $$ \n",
    "При этом будем считать функцию $f(t)$ переодичной с периодом $T$. Очевидно, что устоявшееся решение уравнения также должно быть периодично. Ищем решение на интервале $t = (0, T)$.\n",
    "\n",
    "Для численного расчета ввдем равномерную сетку из $N$ узлов:\n",
    "$$t_n = \\frac{n}{N} T$$\n",
    "$$x_n = x(t_n) $$\n",
    "$$f_n = f(t_n) $$\n",
    "$$\\ddot x_n = \\frac{x_{n+1} - 2x_n + y_{x-1}}{\\Delta t^2} $$\n",
    "\n",
    "\n",
    "\n"
   ]
  },
  {
   "cell_type": "markdown",
   "metadata": {},
   "source": [
    "Уравнение на сетке перепишется в виде:\n",
    "$$ \\frac{x_{n+1} - 2x_n + x_{n-1}}{\\Delta t^2} + k^2 x_n = f_n $$\n",
    "$$ \\frac{1}{\\Delta t^2}x_{n+1} + \\left(k^2 - \\frac{2}{\\Delta t^2} \\right) x_n + \\frac{1}{\\Delta t^2}x_{n-1} = f_n $$\n",
    "Или введя обозначения $\\alpha = k^2 \\Delta t^2 - 2$ и $F_n = f_n \\Delta t^2$\n",
    "$$ x_{n+1} + \\alpha x_n + x_{n-1} = F_n $$\n",
    "для $n = (1,N-2)$.\n",
    "\n",
    "\n"
   ]
  },
  {
   "cell_type": "markdown",
   "metadata": {},
   "source": [
    "Из граничных условий получаем уравнения для $x_0$ и $x_{N-1}$:\n",
    "$$ x_{1} + \\alpha x_0 + x_{N-1} = F_0 $$\n",
    "$$ x_{0} + \\alpha x_{N-1} + x_{N-2} = F_{N-1} $$\n",
    "\n",
    "\n",
    "Все вместе это можно записать в матричном виде:\n",
    "$$ \n",
    "\\begin{pmatrix} \n",
    "    \\alpha & 1 & 0 & 0 & \\dots & 0 & 0 & 1 \\\\\n",
    "    1 & \\alpha & 1 & 0 & \\dots & 0 & 0 & 0 \\\\\n",
    "    0 & 1 & \\alpha & 1 & \\dots & 0 & 0 & 0 \\\\\n",
    "    0 & 0 & 1 & \\alpha & \\dots & 0 & 0 & 0 \\\\\n",
    "    \\vdots & \\vdots & \\vdots & \\vdots & \\ddots & \\vdots & \\vdots & \\vdots \\\\\n",
    "    0 & 0 & 0 & 0 & \\dots & \\alpha & 1 & 0 \\\\ \n",
    "    0 & 0 & 0 & 0 & \\dots & 1 & \\alpha & 1 \\\\ \n",
    "    1 & 0 & 0 & 0 & \\dots & 0 & 1 & \\alpha \\\\ \n",
    "\\end{pmatrix} \n",
    "\\begin{pmatrix} \n",
    "    x_0 \\\\\n",
    "    x_1 \\\\\n",
    "    x_2 \\\\\n",
    "    x_3 \\\\\n",
    "    \\vdots \\\\\n",
    "    x_{N-3} \\\\\n",
    "    x_{N-2} \\\\\n",
    "    x_{N-1} \\\\\n",
    "\\end{pmatrix}\n",
    "=\n",
    "\\begin{pmatrix} \n",
    "    F_0 \\\\\n",
    "    F_1 \\\\\n",
    "    F_2 \\\\\n",
    "    F_3 \\\\\n",
    "    \\vdots \\\\\n",
    "    F_{N-3} \\\\\n",
    "    F_{N-2} \\\\\n",
    "    F_{N-1} \\\\\n",
    "\\end{pmatrix}\n",
    "$$\n"
   ]
  },
  {
   "cell_type": "markdown",
   "metadata": {},
   "source": [
    "Полученная матрица очень похожа на трехдиаганальную (для решения которых существуют очень эффективные методы, см. scipy.linalg.solve_banded). Но она отличается наличием ненулевых элементах в углах матрицы, из-за чего напрямую применить кк ней быстрые методы нельзя.\n",
    "\n",
    "На помощь приходит [формула Шерман-Моррисона](https://en.wikipedia.org/wiki/Sherman%E2%80%93Morrison_formula). Пусть есть матрица $A$, решение для которой мы можем посчитать быстро. Пусть новая матрица $B = A + {\\bf uv}^T$ отличается от известной добавкой, представимой в виде произведения двух векторов ${\\bf uv}^T$.\n",
    "\n",
    "Тогда, чтобы получить решение уравнения\n",
    "$$ (A + {\\bf uv}^T) {\\bf x} = {\\bf f} $$\n",
    "достаточно получить $x_0$ и $y$ из уравнений:\n",
    "$$ A {\\bf x}_0 = {\\bf f} \\; A {\\bf y} = {\\bf u} $$\n",
    "тогда решение исходного уравнения:\n",
    "$$ {\\bf x} = {\\bf x}_0 - \\frac{({\\bf v} \\cdot {\\bf x}_0 )}{1 + ({\\bf v} \\cdot {\\bf y})} {\\bf y} $$\n"
   ]
  },
  {
   "cell_type": "markdown",
   "metadata": {},
   "source": [
    "Несложно получить, что ветора $\\bf u$ и $\\bf v$ должны иметь вид:\n",
    "$$\n",
    "{\\bf u} = \n",
    "\\begin{pmatrix} \n",
    "    \\gamma \\\\\n",
    "    0 \\\\\n",
    "    \\vdots \\\\\n",
    "    0 \\\\\n",
    "    1 \\\\\n",
    "\\end{pmatrix}\n",
    "\\qquad \n",
    "{\\bf v} = \n",
    "\\begin{pmatrix} \n",
    "    1 \\\\\n",
    "    0 \\\\\n",
    "    \\vdots \\\\\n",
    "    0 \\\\\n",
    "    1/\\gamma \\\\\n",
    "\\end{pmatrix}\n",
    "\\qquad\n",
    "{\\bf u v}^T = \n",
    "\\begin{pmatrix} \n",
    "    \\gamma & 0 & \\dots & 0 & 1 \\\\\n",
    "    0 & 0 &\\dots & 0 & 0 \\\\\n",
    "    \\vdots & \\vdots & \\ddots & \\vdots & \\vdots \\\\\n",
    "    0 & 0 & \\dots & 0 & 0 \\\\ \n",
    "    1 & 0 & \\dots & 0 & 1/\\gamma \\\\ \n",
    "\\end{pmatrix} \n",
    "$$\n",
    "где $\\gamma$ произвольное число.\n",
    "\n",
    "Тогда матрица $A$ в нашем случае:\n",
    "$$\n",
    "A = \n",
    "\\begin{pmatrix} \n",
    "    \\alpha - \\gamma & 1 & 0 & 0 & \\dots & 0 & 0 & 0 \\\\\n",
    "    1 & \\alpha & 1 & 0 & \\dots & 0 & 0 & 0 \\\\\n",
    "    0 & 1 & \\alpha & 1 & \\dots & 0 & 0 & 0 \\\\\n",
    "    0 & 0 & 1 & \\alpha & \\dots & 0 & 0 & 0 \\\\\n",
    "    \\vdots & \\vdots & \\vdots & \\vdots & \\ddots & \\vdots & \\vdots & \\vdots \\\\\n",
    "    0 & 0 & 0 & 0 & \\dots & \\alpha & 1 & 0 \\\\ \n",
    "    0 & 0 & 0 & 0 & \\dots & 1 & \\alpha & 1 \\\\ \n",
    "    0 & 0 & 0 & 0 & \\dots & 0 & 1 & \\alpha - 1/\\gamma \\\\ \n",
    "\\end{pmatrix} \n",
    "$$\n"
   ]
  },
  {
   "cell_type": "code",
   "execution_count": 3,
   "metadata": {
    "ExecuteTime": {
     "end_time": "2022-10-14T15:18:35.224488Z",
     "start_time": "2022-10-14T15:18:35.207601Z"
    }
   },
   "outputs": [],
   "source": [
    "k = 100\n",
    "N = 100000\n",
    "T = 2 * np.pi\n",
    "\n",
    "dt = T/N\n",
    "t = np.linspace(0, T-dt, N)\n",
    "f = np.sin(t) + np.sin(3*t) + np.cos(5*t)"
   ]
  },
  {
   "cell_type": "code",
   "execution_count": 28,
   "metadata": {
    "ExecuteTime": {
     "end_time": "2022-10-14T15:33:38.574683Z",
     "start_time": "2022-10-14T15:33:38.570255Z"
    }
   },
   "outputs": [],
   "source": [
    "alpha = k**2 * dt**2 - 2\n",
    "F = f*dt**2"
   ]
  },
  {
   "cell_type": "code",
   "execution_count": 29,
   "metadata": {
    "ExecuteTime": {
     "end_time": "2022-10-14T15:33:47.328232Z",
     "start_time": "2022-10-14T15:33:47.322064Z"
    }
   },
   "outputs": [],
   "source": [
    "gamma = -alpha\n",
    "\n",
    "u = np.zeros(N)\n",
    "u[0] = gamma\n",
    "u[-1] = 1\n",
    "\n",
    "v = np.zeros(N)\n",
    "v[0] = 1\n",
    "v[-1] = 1/gamma"
   ]
  },
  {
   "cell_type": "code",
   "execution_count": 26,
   "metadata": {
    "ExecuteTime": {
     "end_time": "2022-10-14T15:32:03.802079Z",
     "start_time": "2022-10-14T15:32:03.790038Z"
    }
   },
   "outputs": [],
   "source": [
    "d0 = alpha * np.ones(N)\n",
    "d0[0] = d0[0] - gamma\n",
    "d0[N-1] = d0[N-1] - 1/gamma\n",
    "du = np.concatenate(([0], np.ones(N-1)))\n",
    "dl = np.concatenate((np.ones(N-1), [0]))\n",
    "\n",
    "A_band = np.concatenate(([du], [d0], [dl]), axis = 0) # see scipy.linalg.solve_banded doc"
   ]
  },
  {
   "cell_type": "code",
   "execution_count": 37,
   "metadata": {
    "ExecuteTime": {
     "end_time": "2022-10-14T15:38:32.420445Z",
     "start_time": "2022-10-14T15:38:32.119029Z"
    }
   },
   "outputs": [
    {
     "data": {
      "text/plain": [
       "[<matplotlib.lines.Line2D at 0x7fc727a9fca0>]"
      ]
     },
     "execution_count": 37,
     "metadata": {},
     "output_type": "execute_result"
    },
    {
     "data": {
      "image/png": "[encoded data removed]",
      "text/plain": [
       "<Figure size 432x288 with 1 Axes>"
      ]
     },
     "metadata": {
      "needs_background": "light"
     },
     "output_type": "display_data"
    },
    {
     "data": {
      "image/png": "[encoded data removed]",
      "text/plain": [
       "<Figure size 432x288 with 1 Axes>"
      ]
     },
     "metadata": {
      "needs_background": "light"
     },
     "output_type": "display_data"
    }
   ],
   "source": [
    "x0 = la.solve_banded((1, 1), A_band, F)\n",
    "y = la.solve_banded((1, 1), A_band, u)\n",
    "x = x0 - np.dot(v, x0)/(1 + np.dot(v, y)) * y\n",
    "\n",
    "x_exact = np.sin(t)/(-1+k**2) + np.sin(3*t)/(-3**2+k**2) + np.cos(5*t)/(-5**2+k**2)\n",
    "\n",
    "plt.figure(1)\n",
    "plt.plot(t, x_exact, alpha = 0.4, lw=5)\n",
    "plt.plot(t, x)\n",
    "\n",
    "\n",
    "plt.figure(2)\n",
    "plt.plot(t, f)"
   ]
  }
 ],
 "metadata": {
  "kernelspec": {
   "display_name": "Python 3",
   "language": "python",
   "name": "python3"
  },
  "language_info": {
   "codemirror_mode": {
    "name": "ipython",
    "version": 3
   },
   "file_extension": ".py",
   "mimetype": "text/x-python",
   "name": "python",
   "nbconvert_exporter": "python",
   "pygments_lexer": "ipython3",
   "version": "3.8.8"
  },
  "latex_envs": {
   "LaTeX_envs_menu_present": true,
   "autoclose": true,
   "autocomplete": false,
   "bibliofile": "biblio.bib",
   "cite_by": "apalike",
   "current_citInitial": 1,
   "eqLabelWithNumbers": true,
   "eqNumInitial": 1,
   "hotkeys": {
    "equation": "Ctrl-E",
    "itemize": "Ctrl-I"
   },
   "labels_anchors": false,
   "latex_user_defs": false,
   "report_style_numbering": false,
   "user_envs_cfg": false
  },
  "toc": {
   "base_numbering": 1,
   "nav_menu": {},
   "number_sections": true,
   "sideBar": true,
   "skip_h1_title": false,
   "title_cell": "Table of Contents",
   "title_sidebar": "Contents",
   "toc_cell": false,
   "toc_position": {},
   "toc_section_display": true,
   "toc_window_display": false
  }
 },
 "nbformat": 4,
 "nbformat_minor": 2
}
